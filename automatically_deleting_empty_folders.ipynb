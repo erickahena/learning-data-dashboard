{
 "cells": [
  {
   "cell_type": "code",
   "execution_count": 77,
   "id": "2406e341-5c8e-46d5-b04b-42dc3de1af38",
   "metadata": {},
   "outputs": [],
   "source": [
    "import os\n",
    "from pathlib import Path"
   ]
  },
  {
   "cell_type": "code",
   "execution_count": 81,
   "id": "ad22e6c4-0cd7-4b7b-9477-44ad01a292dc",
   "metadata": {},
   "outputs": [],
   "source": [
    "directory_to_scan = Path(\"C:\\\\Users\\\\kahen\\\\OneDrive\\\\Bureau\\\\New folder\")"
   ]
  },
  {
   "cell_type": "code",
   "execution_count": 83,
   "id": "b8999fb4-30b6-4562-9d2d-99aa932ecd6e",
   "metadata": {},
   "outputs": [],
   "source": [
    "def delete_empty_folders(directory):\n",
    "    for folder in directory.rglob('*'):\n",
    "        if folder.is_dir() and not any(folder.iterdir()):\n",
    "            try:\n",
    "                folder.rmdir()\n",
    "                print(f\"Deleted empty folder: {folder}\")\n",
    "            except OSError as e:\n",
    "                print(f\"Error deleting {folder}: {e}\")"
   ]
  },
  {
   "cell_type": "code",
   "execution_count": 87,
   "id": "5258a29a-498f-42ab-8aef-88a07775d1f5",
   "metadata": {},
   "outputs": [
    {
     "name": "stdout",
     "output_type": "stream",
     "text": [
      "Deleted empty folder: C:\\Users\\kahen\\OneDrive\\Bureau\\New folder\\New folder\n"
     ]
    }
   ],
   "source": [
    "delete_empty_folders(directory_to_scan)"
   ]
  },
  {
   "cell_type": "code",
   "execution_count": null,
   "id": "6d2efa4a-624f-49c5-bed4-1f256918874d",
   "metadata": {},
   "outputs": [],
   "source": []
  }
 ],
 "metadata": {
  "kernelspec": {
   "display_name": "Python [conda env:base] *",
   "language": "python",
   "name": "conda-base-py"
  },
  "language_info": {
   "codemirror_mode": {
    "name": "ipython",
    "version": 3
   },
   "file_extension": ".py",
   "mimetype": "text/x-python",
   "name": "python",
   "nbconvert_exporter": "python",
   "pygments_lexer": "ipython3",
   "version": "3.12.7"
  }
 },
 "nbformat": 4,
 "nbformat_minor": 5
}
